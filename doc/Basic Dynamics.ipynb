{
 "cells": [
  {
   "cell_type": "markdown",
   "metadata": {},
   "source": [
    "# Basic Rover Dynamics\n",
    "\n",
    "General dynamics estimates for the Tennis Butler rover."
   ]
  },
  {
   "cell_type": "code",
   "execution_count": 1,
   "metadata": {},
   "outputs": [],
   "source": [
    "from __future__ import division\n",
    "import numpy as np\n",
    "import matplotlib.pyplot as plt\n",
    "import seaborn as sns\n",
    "sns.set_style('whitegrid')\n",
    "%matplotlib inline\n",
    "\n",
    "import math\n",
    "from pprint import pprint\n",
    "\n",
    "# Use Pint for units support, to (hopefully) avoid dumb mistakes\n",
    "from pint import UnitRegistry\n",
    "u = UnitRegistry()"
   ]
  },
  {
   "cell_type": "markdown",
   "metadata": {},
   "source": [
    "## Vehicle Specifications and Performance Constraints\n",
    "\n",
    "We start by defining basic vehicle requirements such as mass, maximum speed, wheel dimensions and rolling resistance.\n",
    "\n",
    "- The maximum vehicle mass is 30 pounds, or **13.6kg**: 15 pounds of rover, plus 15 pounds for a full (100) ball bin.\n",
    "- We assume a ~5MPH maximum vehicle speed, **2 m/s**.\n",
    "- The coefficient of rolling resistance is hard to estimate; from the internet, **0.005** appears to be a conservative estimate (it's probably much lower).\n",
    "- We'll use a wheel diameter of **10cm** for now.  A smaller wheel exerts more torque, but the vehicle moves a shorter distance per revolution of the wheel."
   ]
  },
  {
   "cell_type": "code",
   "execution_count": 2,
   "metadata": {},
   "outputs": [],
   "source": [
    "m = 13.6 * u.kg\n",
    "v_max = 2. * u.m / u.s\n",
    "C_rr = 0.005 # [unitless]\n",
    "D = 10. * u.cm"
   ]
  },
  {
   "cell_type": "markdown",
   "metadata": {},
   "source": [
    "Additionally, some useful constants and conversions:"
   ]
  },
  {
   "cell_type": "code",
   "execution_count": 3,
   "metadata": {},
   "outputs": [],
   "source": [
    "g = 9.8 * u.m / u.s**2"
   ]
  },
  {
   "cell_type": "markdown",
   "metadata": {},
   "source": [
    "For wheels of radius \\\\( r \\\\), this lets us derive\n",
    "\\begin{align}\n",
    "\\omega_{max} &= \\frac{v_{max}}{r} \\\\\n",
    "      F_{rr} &= \\ C_{rr} m g \\\\\n",
    "   \\tau_{rr} &= r \\times F_{rr}\n",
    "\\end{align}\n"
   ]
  },
  {
   "cell_type": "code",
   "execution_count": 4,
   "metadata": {},
   "outputs": [
    {
     "name": "stdout",
     "output_type": "stream",
     "text": [
      "Max wheel RPM: 382\n",
      "Rolling resistance force: 0.6664 newton\n",
      "Rolling resistance torque: 0.03332 meter * newton = 4.719 force_ounce * inch\n"
     ]
    }
   ],
   "source": [
    "r = D/2\n",
    "omega_max = v_max / r\n",
    "rpm_max = (60 * u.s / u.min) * omega_max / (2*math.pi)\n",
    "F_rr = C_rr * m * g\n",
    "T_rr = F_rr * r\n",
    "\n",
    "print('Max wheel RPM: {:.3g}'.format(rpm_max.to('1/min').magnitude))\n",
    "print('Rolling resistance force: {:.4g}'.format(F_rr.to('N')))\n",
    "print('Rolling resistance torque: {:.4g} = {:.4g}'.format(T_rr.to('N*m'), T_rr.to('ozf*in')))"
   ]
  },
  {
   "cell_type": "markdown",
   "metadata": {},
   "source": [
    "The rolling resistance torque defines the absolute minimum torque required by the vehicle for its wheels to roll, but insufficient torque could result in a vehicle that takes a very long time to get up to speed.  A better performance metric would be a desired rate of linear acceleration.\n",
    "\n",
    "For example, we might want the system to reach its rated speed of 2 m/s within **5 seconds**:\n",
    "\n",
    "\\begin{align}\n",
    "           t &= 5s \\\\\n",
    "     a_{max} &= \\frac{v_{max}}{t} \\\\\n",
    "     F_{max} &= m a_{max} \\\\\n",
    "\\tau_{motors} &= r \\times \\left( F_{max} + F_{rr} \\right)\n",
    "\\end{align}"
   ]
  },
  {
   "cell_type": "code",
   "execution_count": 5,
   "metadata": {},
   "outputs": [
    {
     "name": "stdout",
     "output_type": "stream",
     "text": [
      "Max linear acceleration: 0.4 meter / second ** 2\n",
      "Max net linear force (ignoring rolling resistance): 5.44 newton\n",
      "Max combined motor torque: 0.3053 meter * newton = 43.24 force_ounce * inch\n"
     ]
    }
   ],
   "source": [
    "t_to_max_speed = 5 * u.s;\n",
    "a_max = v_max / t_to_max_speed;\n",
    "F_max = m * a_max;\n",
    "T_motors = (F_max + F_rr) * r;\n",
    "\n",
    "print('Max linear acceleration: {:.4g}'.format(a_max))\n",
    "print('Max net linear force (ignoring rolling resistance): {:.4g}'.format(F_max.to('N')))\n",
    "print('Max combined motor torque: {:.4g} = {:.4g}'.format(T_motors.to('N*m'), T_motors.to('ozf*in')))"
   ]
  },
  {
   "cell_type": "markdown",
   "metadata": {},
   "source": [
    "We see that the motor torque required for peak acceleration performance is several times the torque required to simply maintain a constant speed."
   ]
  },
  {
   "cell_type": "markdown",
   "metadata": {},
   "source": [
    "## Motor Selection\n",
    "\n",
    "We require two drive motors for a differential drive configuration, with each providing one half of our maximum motor torque, or 21.62 ozf-in.\n",
    "\n",
    "Pololu recommends operating their brushed DC motors below 25% of stall current.  Their largest brushed DC gearmotors are [37mm in diameter](https://www.pololu.com/category/116/37d-mm-metal-gearmotors).  Let's consider the [Pololu #2822](https://www.pololu.com/product/2822), the 19:1 motor with encoder, because it has a maximum no-load speed of 500RPM (and our target max wheel RPM is 380).\n",
    "\n",
    "When operating at 12V, it has:\n",
    "\n",
    "- No-load speed: 500 rpm\n",
    "- No-load current: 300 mA\n",
    "- Stall current: 5000 mA\n",
    "- Stall torque: 84 oz·in\n",
    "\n",
    "We can consider these motors to have a linear performance curve between these endpoints, as such:"
   ]
  },
  {
   "cell_type": "code",
   "execution_count": 43,
   "metadata": {
    "scrolled": true
   },
   "outputs": [
    {
     "data": {
      "image/png": "[encoded data removed]",
      "text/plain": [
       "<Figure size 1080x324 with 4 Axes>"
      ]
     },
     "metadata": {
      "needs_background": "light"
     },
     "output_type": "display_data"
    }
   ],
   "source": [
    "no_load_speed = 500\n",
    "no_load_current = 300\n",
    "stall_current = 5000\n",
    "stall_torque = 84\n",
    "\n",
    "torques = np.linspace(0, stall_torque)\n",
    "speeds = torques * (-no_load_speed / stall_torque) + no_load_speed\n",
    "currents = torques * ((stall_current - no_load_current) / stall_torque) + no_load_current\n",
    "input_powers\n",
    "\n",
    "fig, (ax1, ax2, ax3) = plt.subplots(nrows=1, ncols=3, figsize=(15,4.5))\n",
    "\n",
    "color = 'b'\n",
    "ax1.plot(torques, speeds, color=color)\n",
    "ax1.set(title='Speed and Current vs. Torque',\n",
    "        xlabel='Torque (ozf-in)', xlim=[0, 90],\n",
    "        ylabel='Speed (RPM)', ylim=[0, no_load_speed])\n",
    "ax1.yaxis.label.set_color(color)\n",
    "ax1.tick_params(axis='y', labelcolor=color)\n",
    "\n",
    "color = 'r'\n",
    "ax1b = ax1.twinx()\n",
    "ax1b.plot(torques, currents, color=color)\n",
    "ax1b.set(ylabel='Current (mA)', ylim=[0, stall_current])\n",
    "ax1b.yaxis.label.set_color(color)\n",
    "ax1b.tick_params(axis='y', labelcolor=color)\n",
    "\n",
    "# color = 'b'\n",
    "\n",
    "# ax2.set(title=\"Input and Output Power vs. Torque\",\n",
    "#         xlabel='Torque (ozf-in)', xlim=[0, 90],\n",
    "#         ylabel=\"Output Power (W)\", ylim=[0, 10])\n",
    "# ax2.yaxis.label.set_color(color)\n",
    "# ax2.tick_params(axis='y', labelcolor=color)\n",
    "\n",
    "\n",
    "fig.tight_layout()"
   ]
  }
 ],
 "metadata": {
  "kernelspec": {
   "display_name": "Python 3",
   "language": "python",
   "name": "python3"
  },
  "language_info": {
   "codemirror_mode": {
    "name": "ipython",
    "version": 3
   },
   "file_extension": ".py",
   "mimetype": "text/x-python",
   "name": "python",
   "nbconvert_exporter": "python",
   "pygments_lexer": "ipython3",
   "version": "3.7.1"
  }
 },
 "nbformat": 4,
 "nbformat_minor": 2
}
